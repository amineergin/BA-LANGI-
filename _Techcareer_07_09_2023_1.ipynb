{
 "cells": [
  {
   "cell_type": "markdown",
   "id": "8935bd88-eb4c-42cd-9922-564430109ed5",
   "metadata": {},
   "source": [
    "# SIRALAMA ALGORİTMALARI ÖRNEKLER"
   ]
  },
  {
   "cell_type": "code",
   "execution_count": 1,
   "id": "7dcccb53-f753-4abe-a484-8325dee981fe",
   "metadata": {},
   "outputs": [],
   "source": [
    "import pandas as pd ; import numpy as np "
   ]
  },
  {
   "cell_type": "code",
   "execution_count": 1,
   "id": "54293f3b-7ee5-40c5-bb58-9810867dff86",
   "metadata": {},
   "outputs": [],
   "source": [
    "import random"
   ]
  },
  {
   "cell_type": "code",
   "execution_count": 10,
   "id": "94c3f7d5-551b-46fd-b3eb-01e5f02de78a",
   "metadata": {},
   "outputs": [],
   "source": [
    "import sorting"
   ]
  },
  {
   "cell_type": "code",
   "execution_count": 2,
   "id": "f8e2f1f7-0335-413d-8866-a37e084707c5",
   "metadata": {},
   "outputs": [],
   "source": [
    "veri=[random.randint(1,100) for _ in range(20)]"
   ]
  },
  {
   "cell_type": "code",
   "execution_count": 3,
   "id": "e81a14ce-7278-433f-8582-b810767b2ef9",
   "metadata": {},
   "outputs": [
    {
     "name": "stdout",
     "output_type": "stream",
     "text": [
      "Orijinal veri seti:\n",
      "[28, 10, 69, 92, 72, 90, 73, 75, 42, 36, 22, 75, 22, 86, 2, 96, 99, 53, 98, 86]\n"
     ]
    }
   ],
   "source": [
    "print(\"Orijinal veri seti:\")\n",
    "print(veri)"
   ]
  },
  {
   "cell_type": "markdown",
   "id": "cdb3f5dc-ea00-460c-a153-6ddead5181c6",
   "metadata": {},
   "source": [
    "## bubble sort"
   ]
  },
  {
   "cell_type": "code",
   "execution_count": 13,
   "id": "4482deaf-1a10-40f9-9c2c-9e1b519b972e",
   "metadata": {},
   "outputs": [
    {
     "name": "stdout",
     "output_type": "stream",
     "text": [
      "\n",
      "Bubble Sort:\n",
      "[3, 12, 17, 24, 33, 35, 44, 56, 57, 58, 63, 66, 72, 82, 83, 86, 92, 95, 98, 99]\n"
     ]
    }
   ],
   "source": [
    "bubble_sorted = veri.copy()\n",
    "sorting.bubble(bubble_sorted)\n",
    "print(\"\\nBubble Sort:\")\n",
    "print(bubble_sorted)"
   ]
  },
  {
   "cell_type": "code",
   "execution_count": 10,
   "id": "8741339f",
   "metadata": {},
   "outputs": [],
   "source": [
    "def bubble_sort(dizi):\n",
    "    for i in range(len(dizi)):\n",
    "        for j in range(0,len(dizi)-1):\n",
    "            if dizi[j] > dizi[j+1]:\n",
    "                dizi[j+1],dizi[j] = dizi[j],dizi[j+1]\n",
    "    return dizi "
   ]
  },
  {
   "cell_type": "code",
   "execution_count": 11,
   "id": "c9a93e71",
   "metadata": {},
   "outputs": [
    {
     "name": "stdout",
     "output_type": "stream",
     "text": [
      "[1, 2, 2, 5, 7, 10, 18, 33, 43, 43, 53, 58, 65, 69, 70, 77, 80, 85, 91, 96]\n"
     ]
    }
   ],
   "source": [
    "print(bubble_sort(veri))"
   ]
  },
  {
   "cell_type": "markdown",
   "id": "37529c5c-cb71-42bb-8a5d-64f5b310e077",
   "metadata": {},
   "source": [
    "## Selection Sort"
   ]
  },
  {
   "cell_type": "code",
   "execution_count": 14,
   "id": "8f250a4b-7327-4fc5-82fc-ff97059cfb75",
   "metadata": {},
   "outputs": [
    {
     "name": "stdout",
     "output_type": "stream",
     "text": [
      "\n",
      " Seçmeli Sıralama: \n",
      "[3, 12, 17, 24, 33, 35, 44, 56, 57, 58, 63, 66, 72, 82, 83, 86, 92, 95, 98, 99]\n"
     ]
    }
   ],
   "source": [
    "selection_sorted=veri.copy()\n",
    "sorting.selection(selection_sorted)\n",
    "print(\"\\n Seçmeli Sıralama: \")\n",
    "print(selection_sorted)"
   ]
  },
  {
   "cell_type": "code",
   "execution_count": 16,
   "id": "c6057d8c-7f5d-4dd6-acd3-9910bf7d95cd",
   "metadata": {},
   "outputs": [],
   "source": [
    "def selection_sort(dizi):\n",
    "    for i in range(len(dizi)):\n",
    "        min_index = i\n",
    "        for j in range(i+1,len(dizi)):\n",
    "            if dizi[min_index] > dizi[j]:\n",
    "                min_index = j\n",
    "        if min_index != i:\n",
    "            dizi[min_index], dizi[i] = dizi[i], dizi[min_index]\n",
    "    return dizi"
   ]
  },
  {
   "cell_type": "code",
   "execution_count": 17,
   "id": "a7964a9b",
   "metadata": {},
   "outputs": [
    {
     "name": "stdout",
     "output_type": "stream",
     "text": [
      "[12, 14, 14, 24, 31, 33, 39, 41, 44, 69, 70, 71, 72, 74, 81, 88, 89, 89, 90, 99]\n"
     ]
    }
   ],
   "source": [
    "print(selection_sort(veri))"
   ]
  },
  {
   "cell_type": "code",
   "execution_count": 6,
   "id": "a4c7ad43",
   "metadata": {},
   "outputs": [],
   "source": [
    "def insertion_sort(dizi):\n",
    "    for i in range(1,len(dizi)):\n",
    "        j=i\n",
    "        while dizi[j-1] > dizi[j] and j > 0:\n",
    "            dizi[j-1], dizi[j] = dizi[j], dizi[j-1]\n",
    "            j -= 1\n",
    "    return dizi"
   ]
  },
  {
   "cell_type": "code",
   "execution_count": 7,
   "id": "5d91800f",
   "metadata": {},
   "outputs": [
    {
     "name": "stdout",
     "output_type": "stream",
     "text": [
      "[2, 10, 22, 22, 28, 36, 42, 53, 69, 72, 73, 75, 75, 86, 86, 90, 92, 96, 98, 99]\n"
     ]
    }
   ],
   "source": [
    "print(insertion_sort(veri))"
   ]
  },
  {
   "cell_type": "code",
   "execution_count": 8,
   "id": "10792b96",
   "metadata": {},
   "outputs": [],
   "source": [
    "def quick_sort(dizi):\n",
    "    if len(dizi) <= 1:\n",
    "        return dizi\n",
    "    \n",
    "    pivot = dizi[len(dizi) // 2]\n",
    "    left = [x for x in dizi if x < pivot]\n",
    "    middle = [x for x in dizi if x == pivot]\n",
    "    right = [x for x in dizi if x > pivot]\n",
    "    \n",
    "    return quick_sort(left) + middle + quick_sort(right)"
   ]
  },
  {
   "cell_type": "code",
   "execution_count": 9,
   "id": "c62402f1",
   "metadata": {},
   "outputs": [
    {
     "name": "stdout",
     "output_type": "stream",
     "text": [
      "[2, 10, 22, 22, 28, 36, 42, 53, 69, 72, 73, 75, 75, 86, 86, 90, 92, 96, 98, 99]\n"
     ]
    }
   ],
   "source": [
    "print(quick_sort(veri))"
   ]
  },
  {
   "cell_type": "code",
   "execution_count": 10,
   "id": "0b853d6b",
   "metadata": {},
   "outputs": [],
   "source": [
    "def merge_sort(dizi):\n",
    "    if len(dizi) <= 1:\n",
    "        return dizi\n",
    "\n",
    "    def merge(left, right):\n",
    "        result = []\n",
    "        i = j = 0\n",
    "\n",
    "        while i < len(left) and j < len(right):\n",
    "            if left[i] < right[j]:\n",
    "                result.append(left[i])\n",
    "                i += 1\n",
    "            else:\n",
    "                result.append(right[j])\n",
    "                j += 1\n",
    "\n",
    "        result.extend(left[i:])\n",
    "        result.extend(right[j:])\n",
    "        return result\n",
    "\n",
    "    mid = len(dizi) // 2\n",
    "    left = dizi[:mid]\n",
    "    right = dizi[mid:]\n",
    "\n",
    "    return merge(merge_sort(left), merge_sort(right))"
   ]
  },
  {
   "cell_type": "code",
   "execution_count": 11,
   "id": "5023e188",
   "metadata": {},
   "outputs": [
    {
     "name": "stdout",
     "output_type": "stream",
     "text": [
      "[2, 10, 22, 22, 28, 36, 42, 53, 69, 72, 73, 75, 75, 86, 86, 90, 92, 96, 98, 99]\n"
     ]
    }
   ],
   "source": [
    "print(merge_sort(veri))"
   ]
  },
  {
   "cell_type": "code",
   "execution_count": 15,
   "id": "2f6dc047",
   "metadata": {},
   "outputs": [],
   "source": [
    "def heap_sort(dizi):\n",
    "    def heapify(dizi, n, i):\n",
    "        largest = i\n",
    "        left = 2 * i + 1\n",
    "        right = 2 * i + 2\n",
    "\n",
    "        if left < n and dizi[left] > dizi[largest]:\n",
    "            largest = left\n",
    "\n",
    "        if right < n and dizi[right] > dizi[largest]:\n",
    "            largest = right\n",
    "\n",
    "        if largest != i:\n",
    "            dizi[i], dizi[largest] = dizi[largest], dizi[i]\n",
    "            heapify(dizi, n, largest)\n",
    "\n",
    "    n = len(dizi)\n",
    "\n",
    "    for i in range(n // 2 - 1, -1, -1):\n",
    "        heapify(dizi, n, i)\n",
    "\n",
    "    for i in range(n - 1, 0, -1):\n",
    "        dizi[i], dizi[0] = dizi[0], dizi[i]\n",
    "        heapify(dizi, i, 0)\n",
    "        \n",
    "    return dizi"
   ]
  },
  {
   "cell_type": "code",
   "execution_count": 16,
   "id": "0887623b",
   "metadata": {},
   "outputs": [
    {
     "name": "stdout",
     "output_type": "stream",
     "text": [
      "[2, 10, 22, 22, 28, 36, 42, 53, 69, 72, 73, 75, 75, 86, 86, 90, 92, 96, 98, 99]\n"
     ]
    }
   ],
   "source": [
    "print(heap_sort(veri))"
   ]
  },
  {
   "cell_type": "code",
   "execution_count": 17,
   "id": "971e86b5",
   "metadata": {},
   "outputs": [],
   "source": [
    "def counting_sort(dizi):\n",
    "    max_val = max(dizi)\n",
    "    min_val = min(dizi)\n",
    "    range_of_elements = max_val - min_val + 1\n",
    "    counting_dizi = [0] * range_of_elements\n",
    "    output_dizi = [0] * len(dizi)\n",
    "\n",
    "    for i in range(len(dizi)):\n",
    "        counting_dizi[dizi[i] - min_val] += 1\n",
    "\n",
    "    for i in range(1, len(counting_dizi)):\n",
    "        counting_dizi[i] += counting_dizi[i - 1]\n",
    "\n",
    "    for i in range(len(dizi) - 1, -1, -1):\n",
    "        output_dizi[counting_dizi[dizi[i] - min_val] - 1] = dizi[i]\n",
    "        counting_dizi[dizi[i] - min_val] -= 1\n",
    "\n",
    "    return output_dizi"
   ]
  },
  {
   "cell_type": "code",
   "execution_count": 18,
   "id": "43145a36",
   "metadata": {},
   "outputs": [
    {
     "name": "stdout",
     "output_type": "stream",
     "text": [
      "[2, 10, 22, 22, 28, 36, 42, 53, 69, 72, 73, 75, 75, 86, 86, 90, 92, 96, 98, 99]\n"
     ]
    }
   ],
   "source": [
    "print(counting_sort(veri))"
   ]
  },
  {
   "cell_type": "code",
   "execution_count": 19,
   "id": "a1cbc2e4",
   "metadata": {},
   "outputs": [],
   "source": [
    "def radix_sort(dizi):\n",
    "    def counting_sort(dizi, exp):\n",
    "        n = len(dizi)\n",
    "        output = [0] * n\n",
    "        count = [0] * 10\n",
    "\n",
    "        for i in range(n):\n",
    "            index = dizi[i] // exp\n",
    "            count[index % 10] += 1\n",
    "\n",
    "        for i in range(1, 10):\n",
    "            count[i] += count[i - 1]\n",
    "\n",
    "        i = n - 1\n",
    "        while i >= 0:\n",
    "            index = dizi[i] // exp\n",
    "            output[count[index % 10] - 1] = dizi[i]\n",
    "            count[index % 10] -= 1\n",
    "            i -= 1\n",
    "\n",
    "        for i in range(n):\n",
    "            dizi[i] = output[i]\n",
    "\n",
    "    max_val = max(dizi)\n",
    "    exp = 1\n",
    "\n",
    "    while max_val // exp > 0:\n",
    "        counting_sort(dizi, exp)\n",
    "        exp *= 10\n",
    "        \n",
    "    return dizi"
   ]
  },
  {
   "cell_type": "code",
   "execution_count": 20,
   "id": "e61277ac",
   "metadata": {},
   "outputs": [
    {
     "name": "stdout",
     "output_type": "stream",
     "text": [
      "[2, 10, 22, 22, 28, 36, 42, 53, 69, 72, 73, 75, 75, 86, 86, 90, 92, 96, 98, 99]\n"
     ]
    }
   ],
   "source": [
    "print(radix_sort(veri))"
   ]
  },
  {
   "cell_type": "code",
   "execution_count": null,
   "id": "a08bab96",
   "metadata": {},
   "outputs": [],
   "source": []
  }
 ],
 "metadata": {
  "kernelspec": {
   "display_name": "Python 3 (ipykernel)",
   "language": "python",
   "name": "python3"
  },
  "language_info": {
   "codemirror_mode": {
    "name": "ipython",
    "version": 3
   },
   "file_extension": ".py",
   "mimetype": "text/x-python",
   "name": "python",
   "nbconvert_exporter": "python",
   "pygments_lexer": "ipython3",
   "version": "3.9.13"
  }
 },
 "nbformat": 4,
 "nbformat_minor": 5
}
